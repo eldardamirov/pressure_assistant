{
 "cells": [
  {
   "cell_type": "code",
   "execution_count": 83,
   "id": "23ee6568",
   "metadata": {},
   "outputs": [],
   "source": [
    "import pandas as pd\n",
    "import requests\n",
    "import numpy as np\n",
    "from tqdm import tqdm\n",
    "from time import sleep\n",
    "import joblib"
   ]
  },
  {
   "cell_type": "code",
   "execution_count": 91,
   "id": "e6b99a6e",
   "metadata": {},
   "outputs": [],
   "source": [
    "df = pd.read_excel('wide_answers.xlsx')"
   ]
  },
  {
   "cell_type": "code",
   "execution_count": 92,
   "id": "445b0f75",
   "metadata": {},
   "outputs": [],
   "source": [
    "number_to_service = df.groupby('№ услуги').sample()[['№ услуги', 'Сокращенное наименование услуги']][:-1]"
   ]
  },
  {
   "cell_type": "code",
   "execution_count": 93,
   "id": "21159b33",
   "metadata": {
    "scrolled": true
   },
   "outputs": [],
   "source": [
    "df2 = pd.DataFrame([['700.00.01', 'Зачисление в образовательное учреждение'],\n",
    "                     ['700.00.02', 'Зачисление в образовательное учреждение']], columns=number_to_service.columns)\n",
    "number_to_service = pd.concat([number_to_service, df2])"
   ]
  },
  {
   "cell_type": "code",
   "execution_count": 94,
   "id": "8f071b70",
   "metadata": {},
   "outputs": [],
   "source": [
    "number_to_service.index = number_to_service['№ услуги'].astype(str)"
   ]
  },
  {
   "cell_type": "code",
   "execution_count": 99,
   "id": "4c7b64f8",
   "metadata": {},
   "outputs": [],
   "source": [
    "number_to_service.drop(columns=['№ услуги'], inplace=True)"
   ]
  },
  {
   "cell_type": "code",
   "execution_count": 100,
   "id": "76769715",
   "metadata": {},
   "outputs": [
    {
     "data": {
      "text/html": [
       "<div>\n",
       "<style scoped>\n",
       "    .dataframe tbody tr th:only-of-type {\n",
       "        vertical-align: middle;\n",
       "    }\n",
       "\n",
       "    .dataframe tbody tr th {\n",
       "        vertical-align: top;\n",
       "    }\n",
       "\n",
       "    .dataframe thead th {\n",
       "        text-align: right;\n",
       "    }\n",
       "</style>\n",
       "<table border=\"1\" class=\"dataframe\">\n",
       "  <thead>\n",
       "    <tr style=\"text-align: right;\">\n",
       "      <th></th>\n",
       "      <th>Сокращенное наименование услуги</th>\n",
       "    </tr>\n",
       "    <tr>\n",
       "      <th>№ услуги</th>\n",
       "      <th></th>\n",
       "    </tr>\n",
       "  </thead>\n",
       "  <tbody>\n",
       "    <tr>\n",
       "      <th>20</th>\n",
       "      <td>Ежемесячное пособие на ребенка-инвалида из сем...</td>\n",
       "    </tr>\n",
       "    <tr>\n",
       "      <th>24</th>\n",
       "      <td>Государственная социальная помощь малоимущим г...</td>\n",
       "    </tr>\n",
       "    <tr>\n",
       "      <th>27</th>\n",
       "      <td>Единовременное пособие беременной жене военнос...</td>\n",
       "    </tr>\n",
       "    <tr>\n",
       "      <th>28</th>\n",
       "      <td>Единовременное пособие при рождении ребенка</td>\n",
       "    </tr>\n",
       "    <tr>\n",
       "      <th>30</th>\n",
       "      <td>предоставления мер социальной поддержки в виде...</td>\n",
       "    </tr>\n",
       "    <tr>\n",
       "      <th>...</th>\n",
       "      <td>...</td>\n",
       "    </tr>\n",
       "    <tr>\n",
       "      <th>26.00.01</th>\n",
       "      <td>Единовременное пособие выпускникам образовател...</td>\n",
       "    </tr>\n",
       "    <tr>\n",
       "      <th>511.00.01</th>\n",
       "      <td>Зачисление в детский сад</td>\n",
       "    </tr>\n",
       "    <tr>\n",
       "      <th>65.00.01</th>\n",
       "      <td>Оказание экстренной социальной помощи жителям ...</td>\n",
       "    </tr>\n",
       "    <tr>\n",
       "      <th>700.00.01</th>\n",
       "      <td>Зачисление в образовательное учреждение</td>\n",
       "    </tr>\n",
       "    <tr>\n",
       "      <th>700.00.02</th>\n",
       "      <td>Зачисление в образовательное учреждение</td>\n",
       "    </tr>\n",
       "  </tbody>\n",
       "</table>\n",
       "<p>67 rows × 1 columns</p>\n",
       "</div>"
      ],
      "text/plain": [
       "                             Сокращенное наименование услуги\n",
       "№ услуги                                                    \n",
       "20         Ежемесячное пособие на ребенка-инвалида из сем...\n",
       "24         Государственная социальная помощь малоимущим г...\n",
       "27         Единовременное пособие беременной жене военнос...\n",
       "28               Единовременное пособие при рождении ребенка\n",
       "30         предоставления мер социальной поддержки в виде...\n",
       "...                                                      ...\n",
       "26.00.01   Единовременное пособие выпускникам образовател...\n",
       "511.00.01                           Зачисление в детский сад\n",
       "65.00.01   Оказание экстренной социальной помощи жителям ...\n",
       "700.00.01            Зачисление в образовательное учреждение\n",
       "700.00.02            Зачисление в образовательное учреждение\n",
       "\n",
       "[67 rows x 1 columns]"
      ]
     },
     "execution_count": 100,
     "metadata": {},
     "output_type": "execute_result"
    }
   ],
   "source": [
    "number_to_service"
   ]
  },
  {
   "cell_type": "code",
   "execution_count": 101,
   "id": "69047103",
   "metadata": {},
   "outputs": [
    {
     "data": {
      "text/plain": [
       "Сокращенное наименование услуги    предоставления мер социальной поддержки в виде...\n",
       "Name: 30, dtype: object"
      ]
     },
     "execution_count": 101,
     "metadata": {},
     "output_type": "execute_result"
    }
   ],
   "source": [
    "number_to_service.loc[\"30\"]"
   ]
  },
  {
   "cell_type": "code",
   "execution_count": 102,
   "id": "e7cd2f0d",
   "metadata": {},
   "outputs": [],
   "source": [
    "import re"
   ]
  },
  {
   "cell_type": "code",
   "execution_count": 144,
   "id": "83bb734d",
   "metadata": {},
   "outputs": [
    {
     "data": {
      "text/plain": [
       "[]"
      ]
     },
     "execution_count": 144,
     "metadata": {},
     "output_type": "execute_result"
    }
   ],
   "source": [
    "text1 = 'Какие основания для получения услугe 30?'\n",
    "\n",
    "pattern1 = r\"(услуг[а-я]* \\d+)\"\n",
    "re.findall(pattern1, text1)"
   ]
  },
  {
   "cell_type": "code",
   "execution_count": 136,
   "id": "6c37503e",
   "metadata": {},
   "outputs": [],
   "source": [
    "def rename_service(text1):\n",
    "    pattern1 = r\"(услуг[а-я]* \\d+|\\d+ услуг[а-я]*)\"\n",
    "    pattern2 = r\"(услуг[а-я]* \\d+\\.\\d+\\.\\d+|\\d+\\.\\d+\\.\\d+ услуг[а-я]*)\"\n",
    "    \n",
    "    matches1 = re.findall(pattern1, text1)\n",
    "    matches2 = re.findall(pattern2, text1)\n",
    "\n",
    "    final_text = text1\n",
    "#     try:\n",
    "    if matches2:\n",
    "        a2 = re.findall(r'\\d+\\.\\d+\\.\\d+', matches2[0])\n",
    "        if a2:\n",
    "            a2 = a2[0]\n",
    "            regex2 = re.compile(pattern2)\n",
    "            service_name = number_to_service.loc[a2].values[0][0]\n",
    "            final_text += f\" {matches2[0]} - это {service_name}.\"\n",
    "\n",
    "    elif matches1:\n",
    "        a1 = re.findall(r'\\d+', matches1[0])\n",
    "        if a1:\n",
    "            a1 = a1[0]\n",
    "            regex1 = re.compile(pattern1)\n",
    "            service_name = number_to_service.loc[a1].values[0]\n",
    "            final_text += f\" {matches1[0]} - это {service_name}.\"\n",
    "#     except:\n",
    "#         pass\n",
    "        \n",
    "\n",
    "    return final_text"
   ]
  },
  {
   "cell_type": "code",
   "execution_count": 137,
   "id": "435bc5aa",
   "metadata": {},
   "outputs": [
    {
     "data": {
      "text/plain": [
       "'Какие основания для получения услугe 30?'"
      ]
     },
     "execution_count": 137,
     "metadata": {},
     "output_type": "execute_result"
    }
   ],
   "source": [
    "rename_service(text1)"
   ]
  },
  {
   "cell_type": "code",
   "execution_count": 42,
   "id": "1324f4ed",
   "metadata": {},
   "outputs": [
    {
     "data": {
      "text/plain": [
       "'Оказание экстренной социальной помощи жителям Санкт-Петербурга  Экстренная социальная помощь'"
      ]
     },
     "execution_count": 42,
     "metadata": {},
     "output_type": "execute_result"
    }
   ],
   "source": [
    "number_to_service.loc[a2].values[0][0]"
   ]
  },
  {
   "cell_type": "code",
   "execution_count": null,
   "id": "88d50717",
   "metadata": {},
   "outputs": [],
   "source": [
    "pattern = r\"(услуг[а-я]* \\d|\\d услуг[а-я]*)\"\n",
    "\n",
    "matches = re.findall(pattern, text)"
   ]
  }
 ],
 "metadata": {
  "kernelspec": {
   "display_name": "hack",
   "language": "python",
   "name": "hack"
  },
  "language_info": {
   "codemirror_mode": {
    "name": "ipython",
    "version": 3
   },
   "file_extension": ".py",
   "mimetype": "text/x-python",
   "name": "python",
   "nbconvert_exporter": "python",
   "pygments_lexer": "ipython3",
   "version": "3.11.4"
  }
 },
 "nbformat": 4,
 "nbformat_minor": 5
}
